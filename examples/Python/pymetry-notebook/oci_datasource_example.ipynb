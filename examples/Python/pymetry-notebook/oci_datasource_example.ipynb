{
 "cells": [
  {
   "cell_type": "code",
   "execution_count": 1,
   "metadata": {},
   "outputs": [],
   "source": [
    "import pymetry as pym\n",
    "import pymetry.ds as pym_ds\n",
    "import pymetry.project as pym_prj"
   ]
  },
  {
   "cell_type": "code",
   "execution_count": 2,
   "metadata": {},
   "outputs": [],
   "source": [
    "pym.init_conf({\n",
    "    \"SERVER\" : 'YOUR_SYMETRYML_ENDPOINT',\n",
    "    \"SYM_KEY_ID\" : \"SYMETRY_USER\",\n",
    "    \"SYM_SECRET_KEY\" : \"SYMETRY_SECRET_KEY\",\n",
    "})"
   ]
  },
  {
   "cell_type": "markdown",
   "metadata": {},
   "source": [
    "### Create ds_info to pass to datasource create method"
   ]
  },
  {
   "cell_type": "code",
   "execution_count": 3,
   "metadata": {},
   "outputs": [],
   "source": [
    "ds_info = { \"type\" : \"s3oci\", \n",
    "            \"name\" : \"datasource_name\", \n",
    "            \"info\" : { \"s3accessKey\" : \"OCI_ACCESS_KEY\", \n",
    "                       \"s3secretKey\" : \"OCI_SECRET_KEY\", \n",
    "                       \"path\" : \"OCI_PATH\", \n",
    "                       \"s3bucket\" : \"OBJECT_STORAGE_BUCKET\",\n",
    "                       \"ocinamespace\" : \"OBJECT_STORAGE_NAMESPACE\", \n",
    "                       \"ociregion\" : \"REGION_INFO\"}}"
   ]
  },
  {
   "cell_type": "markdown",
   "metadata": {},
   "source": [
    "### Create Datasource"
   ]
  },
  {
   "cell_type": "code",
   "execution_count": 4,
   "metadata": {},
   "outputs": [
    {
     "data": {
      "text/plain": [
       "b'{\"statusCode\":\"CREATED\",\"statusString\":\"DS created with name [datasource_name] for customer [c1]\",\"values\":{}}'"
      ]
     },
     "execution_count": 4,
     "metadata": {},
     "output_type": "execute_result"
    }
   ],
   "source": [
    "info = pym_ds.create_ds(ds_info)\n",
    "info.content"
   ]
  }
 ],
 "metadata": {
  "kernelspec": {
   "display_name": "Python 3",
   "language": "python",
   "name": "python3"
  },
  "language_info": {
   "codemirror_mode": {
    "name": "ipython",
    "version": 3
   },
   "file_extension": ".py",
   "mimetype": "text/x-python",
   "name": "python",
   "nbconvert_exporter": "python",
   "pygments_lexer": "ipython3",
   "version": "3.6.10"
  }
 },
 "nbformat": 4,
 "nbformat_minor": 4
}
