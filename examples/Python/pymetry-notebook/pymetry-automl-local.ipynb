{
 "cells": [
  {
   "cell_type": "markdown",
   "metadata": {},
   "source": [
    "# pymetry-automl"
   ]
  },
  {
   "cell_type": "markdown",
   "metadata": {},
   "source": [
    "#### Imports"
   ]
  },
  {
   "cell_type": "code",
   "execution_count": null,
   "metadata": {},
   "outputs": [],
   "source": [
    "%matplotlib inline\n",
    "\n",
    "import sys\n",
    "import os.path\n",
    "\n",
    "sys.path.append(\"/opt/symetry/python\")\n",
    "\n",
    "import pandas as pd\n",
    "import numpy as np\n",
    "import json\n",
    "\n",
    "import time\n",
    "\n",
    "import pymetry as pym\n",
    "import pymetry.ds as pym_ds\n",
    "import pymetry.project as pym_prj\n",
    "import pymetry.utilities.jobs as pym_job\n",
    "import pymetry.utilities.utils as pym_ut\n",
    "\n",
    "import sklearn.metrics as skmetrics\n",
    "\n",
    "\n",
    "# hide shap np depreciated warnings\n",
    "import warnings\n",
    "warnings.simplefilter(action='ignore', category=FutureWarning)\n",
    "\n",
    "import shap\n",
    "shap.initjs()"
   ]
  },
  {
   "cell_type": "code",
   "execution_count": null,
   "metadata": {},
   "outputs": [],
   "source": [
    "pym.init_conf({\n",
    "    \"SERVER\" : 'http://charm:8080',\n",
    "    \"SYM_KEY_ID\" : \"c1\",\n",
    "    \"SYM_SECRET_KEY\" : \"A1ciUrDJgm5LIJU710bxeQ==\",\n",
    "})"
   ]
  },
  {
   "cell_type": "markdown",
   "metadata": {},
   "source": [
    "#### Test Parameters"
   ]
  },
  {
   "cell_type": "code",
   "execution_count": null,
   "metadata": {},
   "outputs": [],
   "source": [
    "PROJECT_TYPE = 'cpu'\n",
    "TRAIN_FILE = \"../../../data/train_bank_BinaryHotEncode.csv\"\n",
    "TEST_FILE = \"../../../data/test_bank_BinaryHotEncode.csv\"\n",
    "\n",
    "CLASS_MODEL_TYPE = 'lda'\n",
    "CLASS_MODEL_TARGET_ATTRIBUTES = ['target']\n",
    "\n",
    "ATTRIBUTE_NAMES = [\n",
    "     \"target\",\"age\",\"balance\",\"day\",\"duration\",\"campaign\",\"pdays\",\"previous\",\n",
    "     \"job_admin.\",\"job_blue-collar\",\"job_entrepreneur\",\"job_housemaid\",\n",
    "     \"job_management\",\"job_retired\",\"job_self-employed\",\"job_services\",\n",
    "     \"job_student\",\"job_technician\",\"job_unemployed\",\"job_unknown\",\"marital_divorced\",\n",
    "     \"marital_married\",\"marital_single\",\"education_primary\",\"education_secondary\",\n",
    "     \"education_tertiary\",\"education_unknown\",\"default_no\",\"default_yes\",\n",
    "     \"housing_no\",\"housing_yes\",\"loan_no\",\"loan_yes\",\"contact_cellular\",\"contact_telephone\",\n",
    "     \"contact_unknown\",\"month_apr\",\"month_aug\",\"month_dec\",\"month_feb\",\"month_jan\",\n",
    "     \"month_jul\",\"month_jun\",\"month_mar\",\"month_may\",\"month_nov\",\"month_oct\",\n",
    "     \"month_sep\",\"poutcome_failure\",\"poutcome_other\",\"poutcome_success\",\"poutcome_unknown\"\n",
    " ]\n",
    "\n",
    "ATTRIBUTE_TYPES = [\n",
    "         \"B\",\n",
    "         \"C\",\"C\",\"C\",\"C\",\"C\",\"C\",\"C\",\n",
    "         \"B\",\"B\",\"B\",\"B\",\"B\",\"B\",\"B\",\"B\",\"B\",\"B\",\"B\",\"B\",\"B\",\"B\",\"B\",\"B\",\"B\",\"B\",\"B\",\"B\",\"B\",\"B\",\"B\",\"B\",\"B\",\"B\",\"B\",\"B\",\"B\",\"B\",\"B\",\"B\",\"B\",\"B\",\"B\",\"B\",\"B\",\"B\",\"B\",\"B\",\"B\",\"B\",\"B\",\"B\"\n",
    "     ]\n",
    "\n",
    "CLASS_MODEL_INPUT_ATTRIBUTES = ATTRIBUTE_NAMES.copy()\n",
    "CLASS_MODEL_INPUT_ATTRIBUTES.remove(CLASS_MODEL_TARGET_ATTRIBUTES[0])"
   ]
  },
  {
   "cell_type": "markdown",
   "metadata": {},
   "source": [
    "### Load Data"
   ]
  },
  {
   "cell_type": "code",
   "execution_count": null,
   "metadata": {},
   "outputs": [],
   "source": [
    "train_df = pd.read_csv(TRAIN_FILE)\n",
    "test_df = pd.read_csv(TEST_FILE)\n",
    "\n",
    "print(train_df.shape)\n",
    "print(test_df.shape)\n",
    "\n",
    "smldf_train = pym_ut.pandas_df_to_sml_json(train_df)\n",
    "smldf_test = pym_ut.pandas_df_to_sml_json(test_df)"
   ]
  },
  {
   "cell_type": "markdown",
   "metadata": {},
   "source": [
    "# Create Base Project on SymetryML Server"
   ]
  },
  {
   "cell_type": "code",
   "execution_count": null,
   "metadata": {},
   "outputs": [],
   "source": [
    "prj_plain = 'bankPlain'\n",
    "project_params = {\n",
    "    \"rf_type\" : \"rf_classifier\",\n",
    "    \"rf_target_name\" : CLASS_MODEL_TARGET_ATTRIBUTES[0],\n",
    "    \"rf_features\" : \"*\",\n",
    "}\n",
    "rsp = pym_prj.create_project(prj_plain, project_type=PROJECT_TYPE, project_params=project_params)\n",
    "print(rsp.content)"
   ]
  },
  {
   "cell_type": "markdown",
   "metadata": {},
   "source": [
    "### Update Base Project"
   ]
  },
  {
   "cell_type": "code",
   "execution_count": null,
   "metadata": {},
   "outputs": [],
   "source": [
    "%%time\n",
    "\n",
    "client_id = \"pymetry-ipynb\"\n",
    "\n",
    "rsp = pym_prj.stream_data_to_project(prj_plain, smldf_train, client_id='pymetry')\n",
    "print(rsp.content)\n"
   ]
  },
  {
   "cell_type": "markdown",
   "metadata": {},
   "source": [
    "### Auto Select Model on Base Project"
   ]
  },
  {
   "cell_type": "code",
   "execution_count": null,
   "metadata": {},
   "outputs": [],
   "source": [
    "class_model_name = 'clr'\n",
    "ml_context = {\n",
    "    \"targetAttributeNames\": CLASS_MODEL_TARGET_ATTRIBUTES,\n",
    "    \"inputAttributeNames\": CLASS_MODEL_INPUT_ATTRIBUTES,\n",
    "    \"extraParameters\" : {\n",
    "        \"autoselect_grid_type\": \"autoselect_grid_type_normal\",\n",
    "        \"selector_type\": \"selector_type_fw_bw\"\n",
    "    }\n",
    "    \n",
    "}\n",
    "rsp = pym_prj.auto_select_df(ml_context,\n",
    "                             prj_plain,\n",
    "                             class_model_name,\n",
    "                             smldf_test)\n",
    "print(rsp.content)\n",
    "pym_job.wait_for_job_finish(rsp)"
   ]
  },
  {
   "cell_type": "markdown",
   "metadata": {},
   "source": [
    "### Assess model of Base Project"
   ]
  },
  {
   "cell_type": "code",
   "execution_count": null,
   "metadata": {},
   "outputs": [],
   "source": [
    "%%time\n",
    "plain_predict_proba = pym_prj.make_predict_proba(test_df, prj_plain, class_model_name)\n",
    "predict_result = plain_predict_proba(test_df)\n",
    "\n",
    "base_auc = skmetrics.roc_auc_score(test_df[CLASS_MODEL_TARGET_ATTRIBUTES[0]], predict_result)\n",
    "print(\"Base AUC : \", str(base_auc))"
   ]
  },
  {
   "cell_type": "markdown",
   "metadata": {},
   "source": [
    "# Create AuoML Project"
   ]
  },
  {
   "cell_type": "code",
   "execution_count": null,
   "metadata": {},
   "outputs": [],
   "source": [
    "prj_auto = 'bankAuto'\n",
    "project_params = {\n",
    "    \"rf_type\" : \"rf_classifier\",\n",
    "    \"rf_target_name\" : CLASS_MODEL_TARGET_ATTRIBUTES[0],\n",
    "    \"rf_features\" : \"*\",\n",
    "\n",
    "    \"automl_project_is_automl\" : \"true\",\n",
    "    \"automl_target_name\" : CLASS_MODEL_TARGET_ATTRIBUTES[0],\n",
    "    \"automl_warmup_size\" : \"5000\",\n",
    "    \"automl_use_feature_importance\" : \"false\",\n",
    "    \"automl_use_svd\" : \"false\",\n",
    "    \"automl_add_feature_interaction\" : \"true\",\n",
    "    \"automl_feature_interaction_threshold\" : \"0.1\"\n",
    "}\n",
    "\n",
    "rsp = pym_prj.create_project(prj_auto, project_type=PROJECT_TYPE, project_params=project_params)\n",
    "print(rsp.content)"
   ]
  },
  {
   "cell_type": "markdown",
   "metadata": {},
   "source": [
    "### Update AutoML Project"
   ]
  },
  {
   "cell_type": "code",
   "execution_count": null,
   "metadata": {},
   "outputs": [],
   "source": [
    "%%time\n",
    "\n",
    "client_id = \"pymetry-ipynb\"\n",
    "rsp = pym_prj.stream_data_to_project(prj_auto, smldf_train, client_id='pymetry')\n",
    "print(rsp.content)"
   ]
  },
  {
   "cell_type": "markdown",
   "metadata": {},
   "source": [
    "### Auto Select Model on AutoML Project"
   ]
  },
  {
   "cell_type": "code",
   "execution_count": null,
   "metadata": {},
   "outputs": [],
   "source": [
    "res = pym_prj.get_project_info(prj_auto)\n",
    "automl_model_attributes = json.loads(res.content)['values']['smlInfo']['attributeNames']\n",
    "automl_model_attributes.remove('target')"
   ]
  },
  {
   "cell_type": "code",
   "execution_count": null,
   "metadata": {},
   "outputs": [],
   "source": [
    "%%time\n",
    "\n",
    "class_model_name = 'clr'\n",
    "ml_context = {\n",
    "    \"targetAttributeNames\": CLASS_MODEL_TARGET_ATTRIBUTES,\n",
    "    \"inputAttributeNames\": automl_model_attributes,\n",
    "    \"extraParameters\" : {\n",
    "        \"autoselect_grid_type\": \"autoselect_grid_type_normal\",\n",
    "        \"selector_type\": \"selector_type_fw_bw\"\n",
    "    }\n",
    "    \n",
    "}\n",
    "rsp = pym_prj.auto_select_df(ml_context,\n",
    "                             prj_auto,\n",
    "                             class_model_name,\n",
    "                             smldf_test)\n",
    "print(rsp.content)\n",
    "pym_job.wait_for_job_finish(rsp)"
   ]
  },
  {
   "cell_type": "code",
   "execution_count": null,
   "metadata": {},
   "outputs": [],
   "source": [
    "%%time\n",
    "auto_predict_proba = pym_prj.make_predict_proba(test_df, prj_auto, class_model_name)\n",
    "predict_result = auto_predict_proba(test_df)\n",
    "auto_auc = skmetrics.roc_auc_score(test_df[CLASS_MODEL_TARGET_ATTRIBUTES[0]], predict_result)\n",
    "print(\"AutoML AUC : \", str(auto_auc))"
   ]
  },
  {
   "cell_type": "markdown",
   "metadata": {},
   "source": [
    "# Create a project for SHAP w/ Transformed Data"
   ]
  },
  {
   "cell_type": "markdown",
   "metadata": {},
   "source": [
    "### Transform Test Data Frame"
   ]
  },
  {
   "cell_type": "code",
   "execution_count": null,
   "metadata": {},
   "outputs": [],
   "source": [
    "%%time\n",
    "\n",
    "res = pym_prj.transform_dataframe(prj_auto, smldf_train)\n",
    "df_json = json.loads(res.content)['values']['dataframe']\n",
    "train_x_df = pym_ut.sml_json_to_pandas_df(df_json)\n",
    "\n",
    "res = pym_prj.transform_dataframe(prj_auto, smldf_test)\n",
    "df_json = json.loads(res.content)['values']['dataframe']\n",
    "test_x_df = pym_ut.sml_json_to_pandas_df(df_json)\n"
   ]
  },
  {
   "cell_type": "code",
   "execution_count": null,
   "metadata": {},
   "outputs": [],
   "source": [
    "print(train_x_df.shape)\n",
    "print(test_x_df.shape)"
   ]
  },
  {
   "cell_type": "code",
   "execution_count": null,
   "metadata": {},
   "outputs": [],
   "source": [
    "prj_shap = 'bankShap'\n",
    "project_params = {}\n",
    "\n",
    "rsp = pym_prj.create_project(prj_shap, project_type=PROJECT_TYPE, project_params=project_params)\n",
    "print(rsp.content)"
   ]
  },
  {
   "cell_type": "markdown",
   "metadata": {},
   "source": [
    "### Update SHAP Project"
   ]
  },
  {
   "cell_type": "code",
   "execution_count": null,
   "metadata": {},
   "outputs": [],
   "source": [
    "%%time\n",
    "smldf_train_x = pym_ut.pandas_df_to_sml_json(train_x_df)\n",
    "\n",
    "rsp = pym_prj.stream_data_to_project(prj_shap, smldf_train_x, client_id='pymetry')\n",
    "print(rsp.content)"
   ]
  },
  {
   "cell_type": "markdown",
   "metadata": {},
   "source": [
    "### Create a Model on SHAP that's identical to Model on AutoML"
   ]
  },
  {
   "cell_type": "code",
   "execution_count": null,
   "metadata": {},
   "outputs": [],
   "source": [
    "rsp = pym_prj.get_model_info(prj_auto, class_model_name)\n",
    "model_info = json.loads(rsp.content)\n",
    "model_info = model_info['values']['modelInfo']"
   ]
  },
  {
   "cell_type": "code",
   "execution_count": null,
   "metadata": {},
   "outputs": [],
   "source": [
    "ml_context = {\n",
    "    \"targetAttributeNames\": model_info['targetNames'],\n",
    "    \"inputAttributeNames\": model_info['attributeNames'], \n",
    "}\n",
    "\n",
    "rsp = pym_prj.build_model(ml_context, prj_shap, class_model_name, model_info['modelType'] )\n",
    "print(rsp.content)\n",
    "job_result = pym_job.wait_for_job_finish(rsp)"
   ]
  },
  {
   "cell_type": "code",
   "execution_count": null,
   "metadata": {},
   "outputs": [],
   "source": [
    "shap_predict_proba = pym_prj.make_predict_proba(test_x_df, prj_shap, class_model_name)"
   ]
  },
  {
   "cell_type": "markdown",
   "metadata": {},
   "source": [
    "### Validate Prediction SHAP and AutoML Models"
   ]
  },
  {
   "cell_type": "code",
   "execution_count": null,
   "metadata": {},
   "outputs": [],
   "source": [
    "%%time\n",
    "\n",
    "res = auto_predict_proba(test_df)\n",
    "res[:10]"
   ]
  },
  {
   "cell_type": "code",
   "execution_count": null,
   "metadata": {},
   "outputs": [],
   "source": [
    "%%time\n",
    "\n",
    "res = shap_predict_proba(test_x_df)\n",
    "res[:10]"
   ]
  },
  {
   "cell_type": "markdown",
   "metadata": {},
   "source": [
    "### Create SHAP Explainer"
   ]
  },
  {
   "cell_type": "code",
   "execution_count": null,
   "metadata": {},
   "outputs": [],
   "source": [
    "x_train_summary = shap.kmeans(train_x_df, 10)\n",
    "explainer = shap.KernelExplainer(shap_predict_proba, x_train_summary)"
   ]
  },
  {
   "cell_type": "markdown",
   "metadata": {},
   "source": [
    "#### Explain First Row"
   ]
  },
  {
   "cell_type": "code",
   "execution_count": null,
   "metadata": {},
   "outputs": [],
   "source": [
    "test_x_df_np = test_x_df.astype(\"float64\")\n",
    "shap_values = explainer.shap_values(test_x_df_np.iloc[0,:])\n",
    "shap.force_plot(explainer.expected_value, shap_values, test_x_df_np.iloc[0,:])"
   ]
  },
  {
   "cell_type": "markdown",
   "metadata": {},
   "source": [
    "#### Explain a sample of predictions"
   ]
  },
  {
   "cell_type": "code",
   "execution_count": null,
   "metadata": {},
   "outputs": [],
   "source": [
    "# Select a small sample size from test_df\n",
    "test_x_df_np_sample = test_x_df_np.sample(n=50, random_state=42)\n",
    "shap_values = explainer.shap_values(test_x_df_np_sample)\n",
    "shap.summary_plot(shap_values, test_x_df_np_sample)"
   ]
  },
  {
   "cell_type": "markdown",
   "metadata": {},
   "source": [
    "### Clear All Projects"
   ]
  },
  {
   "cell_type": "code",
   "execution_count": null,
   "metadata": {},
   "outputs": [],
   "source": [
    "clear = True\n",
    "\n",
    "if clear:\n",
    "    # Remove All Projects\n",
    "    rsp = pym_prj.delete_project(prj_plain)\n",
    "    print(rsp.content)\n",
    "\n",
    "    rsp = pym_prj.delete_project(prj_auto)\n",
    "    print(rsp.content)\n",
    "\n",
    "    rsp = pym_prj.delete_project(prj_shap)\n",
    "    print(rsp.content)"
   ]
  },
  {
   "cell_type": "code",
   "execution_count": null,
   "metadata": {},
   "outputs": [],
   "source": []
  }
 ],
 "metadata": {
  "kernelspec": {
   "display_name": "p310(uv)",
   "language": "python",
   "name": "uv-env"
  },
  "language_info": {
   "codemirror_mode": {
    "name": "ipython",
    "version": 3
   },
   "file_extension": ".py",
   "mimetype": "text/x-python",
   "name": "python",
   "nbconvert_exporter": "python",
   "pygments_lexer": "ipython3",
   "version": "3.9.7"
  }
 },
 "nbformat": 4,
 "nbformat_minor": 2
}
