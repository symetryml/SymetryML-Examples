{
 "cells": [
  {
   "cell_type": "code",
   "execution_count": 1,
   "metadata": {},
   "outputs": [],
   "source": [
    "import pandas as pd\n",
    "import shutil as sh\n",
    "import os"
   ]
  },
  {
   "cell_type": "code",
   "execution_count": 2,
   "metadata": {},
   "outputs": [
    {
     "name": "stdout",
     "output_type": "stream",
     "text": [
      "11000000\n"
     ]
    }
   ],
   "source": [
    "# this file is just the HIGGS.csv file + the header. the header definition can be found at \n",
    "#  https://archive.ics.uci.edu/ml/datasets/HIGGS\n",
    "#  in the Attribute Information section\n",
    "\n",
    "ff = \"/datasets/big/Higgs/HIGGS-H.csv\"\n",
    "\n",
    "df0 = pd.read_csv(ff)\n",
    "print(len(df0))"
   ]
  },
  {
   "cell_type": "code",
   "execution_count": 3,
   "metadata": {},
   "outputs": [
    {
     "name": "stdout",
     "output_type": "stream",
     "text": [
      "df3 is len:8989000\n"
     ]
    },
    {
     "data": {
      "text/plain": [
       "11000000"
      ]
     },
     "execution_count": 3,
     "metadata": {},
     "output_type": "execute_result"
    }
   ],
   "source": [
    "df = df0.sample(frac=1)\n",
    "\n",
    "df1_s = 1 * 1000\n",
    "df2_s = 10 * 1000\n",
    "dfoos_s = 2000 * 1000 \n",
    "\n",
    "dfOOS = df[0:dfoos_s]\n",
    "df1 = df[dfoos_s:dfoos_s + df1_s]\n",
    "df2 = df[dfoos_s + df1_s:dfoos_s + df1_s + df2_s]\n",
    "df3 = df[dfoos_s + df1_s + df2_s:]\n",
    "\n",
    "print(\"df3 is len:%d\" % len(df3))\n",
    "len(df1) + len(df2) + len(df3) + len(dfOOS)"
   ]
  },
  {
   "cell_type": "code",
   "execution_count": 5,
   "metadata": {},
   "outputs": [],
   "source": [
    "\n",
    "sh.rmtree(\"/datasetstt/Higgs/fed3\", ignore_errors=True)\n",
    "os.mkdir(\"/datasetstt/Higgs/fed3\")\n",
    "\n",
    "df1.to_csv(\"/datasetstt/Higgs/fed3/higgs1.csv\", index=False)\n",
    "df2.to_csv(\"/datasetstt/Higgs/fed3/higgs2.csv\", index=False)\n",
    "df3.to_csv(\"/datasetstt/Higgs/fed3/higgs3.csv\", index=False)\n",
    "\n",
    "dfOOS.to_csv(\"/datasetstt/Higgs/fed3/higgs_test.csv\", index=False)"
   ]
  },
  {
   "cell_type": "code",
   "execution_count": null,
   "metadata": {},
   "outputs": [],
   "source": []
  }
 ],
 "metadata": {
  "kernelspec": {
   "display_name": "Python 3",
   "language": "python",
   "name": "python3"
  },
  "language_info": {
   "codemirror_mode": {
    "name": "ipython",
    "version": 3
   },
   "file_extension": ".py",
   "mimetype": "text/x-python",
   "name": "python",
   "nbconvert_exporter": "python",
   "pygments_lexer": "ipython3",
   "version": "3.6.10"
  }
 },
 "nbformat": 4,
 "nbformat_minor": 5
}
