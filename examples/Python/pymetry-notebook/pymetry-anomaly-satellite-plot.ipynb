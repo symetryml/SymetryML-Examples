{
 "cells": [
  {
   "cell_type": "markdown",
   "metadata": {},
   "source": [
    "# Pymetry Anomaly Satelite"
   ]
  },
  {
   "cell_type": "markdown",
   "metadata": {},
   "source": [
    "## Import and Initialize"
   ]
  },
  {
   "cell_type": "code",
   "execution_count": null,
   "metadata": {},
   "outputs": [],
   "source": [
    "import sys\n",
    "\n",
    "sys.path.append(\"/opt/symetry/python\")\n",
    "\n",
    "import pandas as pd\n",
    "import numpy as np\n",
    "import json\n",
    "\n",
    "import pymetry as pym\n",
    "import pymetry.project as pym_prj\n",
    "import pymetry.utilities.jobs as pym_job\n",
    "import pymetry.utilities.utils as pym_ut\n",
    "\n",
    "import sklearn.metrics as skmetrics\n",
    "import sklearn.model_selection as skms"
   ]
  },
  {
   "cell_type": "code",
   "execution_count": null,
   "metadata": {},
   "outputs": [],
   "source": [
    "pym.init_conf({\n",
    "    \"SERVER\" : 'http://charm:8080',\n",
    "    \"SYM_KEY_ID\" : \"c1\",\n",
    "    \"SYM_SECRET_KEY\" : \"A1ciUrDJgm5LIJU710bxeQ==\",\n",
    "})"
   ]
  },
  {
   "cell_type": "markdown",
   "metadata": {},
   "source": [
    "## Read the data"
   ]
  },
  {
   "cell_type": "markdown",
   "metadata": {},
   "source": [
    "### Satellite"
   ]
  },
  {
   "cell_type": "code",
   "execution_count": null,
   "metadata": {},
   "outputs": [],
   "source": [
    "DATA_FILE = \"../../../data/satellite.mat.csv\"\n",
    "\n",
    "df = pd.read_csv(DATA_FILE)\n",
    "train_df, test_df = skms.train_test_split(df, test_size=0.2, random_state=42)\n",
    "\n",
    "print(train_df.shape)\n",
    "print(test_df.shape)\n",
    "\n",
    "smldf_train = pym_ut.pandas_df_to_sml_json(train_df)\n",
    "smldf_test = pym_ut.pandas_df_to_sml_json(test_df)"
   ]
  },
  {
   "cell_type": "code",
   "execution_count": null,
   "metadata": {},
   "outputs": [],
   "source": [
    "df.head()\n",
    "#"
   ]
  },
  {
   "cell_type": "markdown",
   "metadata": {},
   "source": [
    "## Create and Learn Project"
   ]
  },
  {
   "cell_type": "code",
   "execution_count": null,
   "metadata": {},
   "outputs": [],
   "source": [
    "prj_name = 'anomaly'\n",
    "project_type = 'cpu'\n",
    "project_params = {\n",
    "    \"rf_type\" : \"rf_anomaly\",\n",
    "    \"rf_features\" : \"0:1:2:3:4:5:6:7:8:9:10:11:12:13:14:15:16:17:18:19:20:21:22:23:24:25:26:27:28:29:30:31:32:33:34:35\",\n",
    "}\n",
    "rsp = pym_prj.create_project(prj_name, project_type=project_type, project_params=project_params)\n",
    "print(rsp.content)"
   ]
  },
  {
   "cell_type": "code",
   "execution_count": null,
   "metadata": {},
   "outputs": [],
   "source": [
    "%%time\n",
    "\n",
    "client_id = \"pymetry-ipynb\"\n",
    "\n",
    "rsp = pym_prj.stream_data_to_project(prj_name, smldf_train, client_id='pymetry')\n",
    "print(rsp.content)\n"
   ]
  },
  {
   "cell_type": "markdown",
   "metadata": {},
   "source": [
    "## Build RF Anomaly Model"
   ]
  },
  {
   "cell_type": "code",
   "execution_count": null,
   "metadata": {},
   "outputs": [],
   "source": [
    "%%time\n",
    "\n",
    "model_name = 'manomaly'\n",
    "ml_context = {}\n",
    "rsp = pym_prj.build_model(ml_context,\n",
    "                          prj_name,\n",
    "                          model_name,\n",
    "                          algo = 'rf_anomaly')\n",
    "print(rsp.content)\n",
    "pym_job.wait_for_job_finish(rsp)"
   ]
  },
  {
   "cell_type": "code",
   "execution_count": null,
   "metadata": {},
   "outputs": [],
   "source": [
    "rsp = pym_prj.get_model_info(prj_name, model_name)\n",
    "model_info = json.loads(rsp.content)\n",
    "model_info = model_info['values']['modelInfo']"
   ]
  },
  {
   "cell_type": "markdown",
   "metadata": {},
   "source": [
    "## Predict and Compute AUC"
   ]
  },
  {
   "cell_type": "code",
   "execution_count": null,
   "metadata": {},
   "outputs": [],
   "source": [
    "predict_df = test_df.drop('y', axis=1)\n",
    "anomaly_predict_proba = pym_prj.make_predict_proba(predict_df, prj_name, model_name)\n",
    "predict_result = anomaly_predict_proba(predict_df)"
   ]
  },
  {
   "cell_type": "code",
   "execution_count": null,
   "metadata": {},
   "outputs": [],
   "source": [
    "import plotly.graph_objects as go\n",
    "import plotly.offline as py\n",
    "\n",
    "fig = go.FigureWidget()\n",
    "\n",
    "fig.add_scatter()\n",
    "\n",
    "fig.update_yaxes(range=[0, 1], title=dict(text=\"Anomaly Score\"))\n",
    "fig.update_xaxes(range=[0, len(test_df)], title=dict(text=\"Record\"))\n",
    "\n",
    "vbars = [\n",
    "    dict(type= 'line', yref= 'paper', y0= 0, y1= 1, xref= 'x', x0= i, x1= i, opacity=0.2) \n",
    "    for i,v in enumerate(test_df['y']) if v == 1 ]\n",
    "\n",
    "fig.update_layout(title=\"Anomaly Scores Across Records\",shapes=vbars)\n",
    "\n",
    "py.init_notebook_mode(connected=True)\n",
    "py.iplot(fig)"
   ]
  },
  {
   "cell_type": "code",
   "execution_count": null,
   "metadata": {},
   "outputs": [],
   "source": [
    "import time\n",
    "start = time.time()"
   ]
  },
  {
   "cell_type": "markdown",
   "metadata": {},
   "source": [
    "Show anomalies along in real time"
   ]
  },
  {
   "cell_type": "code",
   "execution_count": null,
   "metadata": {},
   "outputs": [],
   "source": [
    "# BASE RES\n",
    "predict_df = test_df.drop('y', axis=1)\n",
    "\n",
    "results = []\n",
    "for i in range(len(predict_df)):\n",
    "    record = predict_df.iloc[[i]]\n",
    "    res = anomaly_predict_proba(record)\n",
    "    results.append(res[0])\n",
    "    with fig.batch_update():\n",
    "        fig.data[0].x = np.arange(i)\n",
    "        fig.data[0].y = results\n",
    "\n"
   ]
  },
  {
   "cell_type": "markdown",
   "metadata": {},
   "source": [
    "Show anomalies in two dimensional space"
   ]
  },
  {
   "cell_type": "code",
   "execution_count": null,
   "metadata": {},
   "outputs": [],
   "source": [
    "test_df.loc[:, 'predicted'] = predict_result"
   ]
  },
  {
   "cell_type": "code",
   "execution_count": null,
   "metadata": {},
   "outputs": [],
   "source": [
    "test_df.head()"
   ]
  },
  {
   "cell_type": "code",
   "execution_count": null,
   "metadata": {},
   "outputs": [],
   "source": [
    "import plotly.graph_objs as go\n",
    "from ipywidgets import interactive, HBox, VBox\n",
    "\n",
    "symbols = []\n",
    "for y in test_df['y']:\n",
    "    marker = 4\n",
    "    if y == 0 :\n",
    "        marker = 0\n",
    "    symbols.append(marker)\n",
    "\n",
    "    f = go.FigureWidget([\n",
    "    go.Scatter(x = test_df['0'],\n",
    "               y = test_df['1'],\n",
    "               mode = 'markers',\n",
    "               marker=dict(\n",
    "                   color=test_df['predicted'],\n",
    "                   colorbar=dict(title=\"Anomaly Score\"),\n",
    "                   colorscale=\"OrRd\"\n",
    "               ),\n",
    "               marker_symbol=symbols,\n",
    "               text=test_df['y'],\n",
    "               hovertemplate=\"(%{x},%{y}) <b>Anomaly = %{text}</b><br><br>\"\n",
    "              )\n",
    "])\n",
    "\n",
    "f.update_layout(\n",
    "    title={\n",
    "        'text': \"Anomaly Score\",\n",
    "        'y':0.9,\n",
    "        'x':0.5,\n",
    "        'xanchor': 'center',\n",
    "        'yanchor': 'top'}\n",
    ")\n",
    "\n",
    "scatter = f.data[0]\n",
    "N = len(test_df)\n",
    "scatter.x = scatter.x\n",
    "scatter.y = scatter.y\n",
    "\n",
    "f.layout.xaxis.title = '0'\n",
    "f.layout.yaxis.title = '1'\n",
    "\n",
    "def update_axes(xaxis, yaxis):\n",
    "    scatter = f.data[0]\n",
    "    scatter.x = test_df[xaxis]\n",
    "    scatter.y = test_df[yaxis]\n",
    "    with f.batch_update():\n",
    "        f.layout.xaxis.title = xaxis\n",
    "        f.layout.yaxis.title = yaxis\n",
    "        scatter.x = scatter.x\n",
    "        scatter.y = scatter.y\n",
    "\n",
    "axis_dropdowns = interactive(update_axes,\n",
    "                             yaxis = test_df.select_dtypes('int64').columns,\n",
    "                             xaxis = test_df.select_dtypes('int64').columns)\n",
    "\n",
    "# Put everything together\n",
    "VBox((HBox(axis_dropdowns.children), f))\n",
    "\n",
    "py.iplot(f)"
   ]
  },
  {
   "cell_type": "markdown",
   "metadata": {},
   "source": [
    "## Clear"
   ]
  },
  {
   "cell_type": "code",
   "execution_count": null,
   "metadata": {},
   "outputs": [],
   "source": [
    "clear = True\n",
    "\n",
    "if clear:\n",
    "    # Remove All Projects\n",
    "    rsp = pym_prj.delete_project(prj_name)\n",
    "    print(rsp.content)"
   ]
  }
 ],
 "metadata": {
  "kernelspec": {
   "display_name": "p310(uv)",
   "language": "python",
   "name": "uv-env"
  },
  "language_info": {
   "codemirror_mode": {
    "name": "ipython",
    "version": 3
   },
   "file_extension": ".py",
   "mimetype": "text/x-python",
   "name": "python",
   "nbconvert_exporter": "python",
   "pygments_lexer": "ipython3",
   "version": "3.9.7"
  }
 },
 "nbformat": 4,
 "nbformat_minor": 4
}
