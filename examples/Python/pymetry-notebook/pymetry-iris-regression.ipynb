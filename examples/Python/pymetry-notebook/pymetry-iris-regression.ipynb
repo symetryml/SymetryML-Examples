{
 "cells": [
  {
   "cell_type": "markdown",
   "metadata": {},
   "source": [
    "# Pymetry Regression"
   ]
  },
  {
   "cell_type": "markdown",
   "metadata": {},
   "source": [
    "## Import and Initialize"
   ]
  },
  {
   "cell_type": "code",
   "execution_count": 1,
   "metadata": {},
   "outputs": [],
   "source": [
    "import sys\n",
    "\n",
    "sys.path.append(\"/opt/symetry/python\")\n",
    "\n",
    "import pandas as pd\n",
    "import numpy as np\n",
    "import json\n",
    "import matplotlib.pyplot as plt\n",
    "%matplotlib inline\n",
    "\n",
    "import pymetry as pym\n",
    "import pymetry.project as pym_prj\n",
    "import pymetry.utilities.jobs as pym_job\n",
    "import pymetry.utilities.utils as pym_ut\n",
    "import pymetry.explore as pym_exp\n",
    "\n",
    "import sklearn.metrics as skmetrics\n",
    "import sklearn.model_selection as skms"
   ]
  },
  {
   "cell_type": "code",
   "execution_count": 2,
   "metadata": {},
   "outputs": [],
   "source": [
    "pym.init_conf({\n",
    "    \"SERVER\" : 'YOUR_SYMETRYML_ENDPOINT',\n",
    "    \"SYM_KEY_ID\" : \"SYMETRY_USER\",\n",
    "    \"SYM_SECRET_KEY\" : \"SYMETRY_SECRET_KEY\",\n",
    "})"
   ]
  },
  {
   "cell_type": "markdown",
   "metadata": {},
   "source": [
    "## Read the data"
   ]
  },
  {
   "cell_type": "markdown",
   "metadata": {},
   "source": [
    "### Iris Dataset"
   ]
  },
  {
   "cell_type": "code",
   "execution_count": 3,
   "metadata": {},
   "outputs": [],
   "source": [
    "DATA_FILE = \"../../../data/Iris_data.csv\"\n",
    "\n",
    "df = pd.read_csv(DATA_FILE)\n",
    "\n",
    "# Dropping Columns to avoid Singular Matrix Error\n",
    "columns_drop = ['sepal_lengt_b2',\n",
    "                'sepal_width_b2',\n",
    "                'petal_length_b2',\n",
    "                'petal_width_b2',\n",
    "                'Iris_versicolor',\n",
    "                'Iris_virginica',\n",
    "                'Iris_setosa']\n",
    "\n",
    "df = df.drop(columns_drop, \n",
    "             axis=1)\n",
    "\n",
    "# Get list of Attributes & Target\n",
    "attributes_target = df.columns.tolist()"
   ]
  },
  {
   "cell_type": "code",
   "execution_count": 4,
   "metadata": {},
   "outputs": [
    {
     "data": {
      "text/html": [
       "<div>\n",
       "<style scoped>\n",
       "    .dataframe tbody tr th:only-of-type {\n",
       "        vertical-align: middle;\n",
       "    }\n",
       "\n",
       "    .dataframe tbody tr th {\n",
       "        vertical-align: top;\n",
       "    }\n",
       "\n",
       "    .dataframe thead th {\n",
       "        text-align: right;\n",
       "    }\n",
       "</style>\n",
       "<table border=\"1\" class=\"dataframe\">\n",
       "  <thead>\n",
       "    <tr style=\"text-align: right;\">\n",
       "      <th></th>\n",
       "      <th>sepal_length</th>\n",
       "      <th>sepal_width</th>\n",
       "      <th>petal_length</th>\n",
       "      <th>petal_width</th>\n",
       "      <th>sepal_lengt_b1</th>\n",
       "      <th>sepal_width_b1</th>\n",
       "      <th>petal_length_b1</th>\n",
       "      <th>petal_width_b1</th>\n",
       "    </tr>\n",
       "  </thead>\n",
       "  <tbody>\n",
       "    <tr>\n",
       "      <th>0</th>\n",
       "      <td>4.3</td>\n",
       "      <td>3.0</td>\n",
       "      <td>1.1</td>\n",
       "      <td>0.1</td>\n",
       "      <td>1</td>\n",
       "      <td>0</td>\n",
       "      <td>1</td>\n",
       "      <td>1</td>\n",
       "    </tr>\n",
       "    <tr>\n",
       "      <th>1</th>\n",
       "      <td>4.8</td>\n",
       "      <td>3.0</td>\n",
       "      <td>1.4</td>\n",
       "      <td>0.1</td>\n",
       "      <td>1</td>\n",
       "      <td>0</td>\n",
       "      <td>1</td>\n",
       "      <td>1</td>\n",
       "    </tr>\n",
       "    <tr>\n",
       "      <th>2</th>\n",
       "      <td>4.9</td>\n",
       "      <td>3.1</td>\n",
       "      <td>1.5</td>\n",
       "      <td>0.1</td>\n",
       "      <td>1</td>\n",
       "      <td>0</td>\n",
       "      <td>1</td>\n",
       "      <td>1</td>\n",
       "    </tr>\n",
       "    <tr>\n",
       "      <th>3</th>\n",
       "      <td>4.9</td>\n",
       "      <td>3.1</td>\n",
       "      <td>1.5</td>\n",
       "      <td>0.1</td>\n",
       "      <td>1</td>\n",
       "      <td>0</td>\n",
       "      <td>1</td>\n",
       "      <td>1</td>\n",
       "    </tr>\n",
       "    <tr>\n",
       "      <th>4</th>\n",
       "      <td>4.9</td>\n",
       "      <td>3.1</td>\n",
       "      <td>1.5</td>\n",
       "      <td>0.1</td>\n",
       "      <td>1</td>\n",
       "      <td>0</td>\n",
       "      <td>1</td>\n",
       "      <td>1</td>\n",
       "    </tr>\n",
       "  </tbody>\n",
       "</table>\n",
       "</div>"
      ],
      "text/plain": [
       "   sepal_length  sepal_width  petal_length  petal_width  sepal_lengt_b1  \\\n",
       "0           4.3          3.0           1.1          0.1               1   \n",
       "1           4.8          3.0           1.4          0.1               1   \n",
       "2           4.9          3.1           1.5          0.1               1   \n",
       "3           4.9          3.1           1.5          0.1               1   \n",
       "4           4.9          3.1           1.5          0.1               1   \n",
       "\n",
       "   sepal_width_b1  petal_length_b1  petal_width_b1  \n",
       "0               0                1               1  \n",
       "1               0                1               1  \n",
       "2               0                1               1  \n",
       "3               0                1               1  \n",
       "4               0                1               1  "
      ]
     },
     "execution_count": 4,
     "metadata": {},
     "output_type": "execute_result"
    }
   ],
   "source": [
    "df.head()"
   ]
  },
  {
   "cell_type": "markdown",
   "metadata": {},
   "source": [
    "### Create Training & Test set"
   ]
  },
  {
   "cell_type": "code",
   "execution_count": 5,
   "metadata": {},
   "outputs": [
    {
     "name": "stdout",
     "output_type": "stream",
     "text": [
      "(120, 8)\n",
      "(30, 8)\n"
     ]
    }
   ],
   "source": [
    "train_df, test_df = skms.train_test_split(df, \n",
    "                                          test_size=0.2, \n",
    "                                          random_state=42)\n",
    "\n",
    "print(train_df.shape)\n",
    "print(test_df.shape)\n",
    "\n",
    "smldf_train = pym_ut.pandas_df_to_sml_json(pandas_df=train_df)\n",
    "smldf_test = pym_ut.pandas_df_to_sml_json(pandas_df=test_df)"
   ]
  },
  {
   "cell_type": "markdown",
   "metadata": {},
   "source": [
    "## Create and Learn Project"
   ]
  },
  {
   "cell_type": "code",
   "execution_count": 6,
   "metadata": {},
   "outputs": [
    {
     "name": "stdout",
     "output_type": "stream",
     "text": [
      "b'{\"statusCode\":\"CREATED\",\"statusString\":\"Project Created with id:reg_example\",\"values\":{}}'\n"
     ]
    }
   ],
   "source": [
    "prj_name = 'reg_example'\n",
    "project_type = 'cpu'\n",
    "\n",
    "rsp = pym_prj.create_project(pid=prj_name, \n",
    "                             project_type=project_type)\n",
    "print(rsp.content)"
   ]
  },
  {
   "cell_type": "code",
   "execution_count": 7,
   "metadata": {},
   "outputs": [
    {
     "name": "stdout",
     "output_type": "stream",
     "text": [
      "b'{\"statusCode\":\"OK\",\"statusString\":\"OK\",\"values\":{}}'\n",
      "CPU times: user 4.69 ms, sys: 2.42 ms, total: 7.11 ms\n",
      "Wall time: 27 ms\n"
     ]
    }
   ],
   "source": [
    "%%time\n",
    "\n",
    "client_id = \"pymetry-ipynb\"\n",
    "\n",
    "rsp = pym_prj.stream_data_to_project(pid=prj_name, \n",
    "                                     sml_dataframe=smldf_train, \n",
    "                                     client_id='pymetry')\n",
    "print(rsp.content)"
   ]
  },
  {
   "cell_type": "markdown",
   "metadata": {},
   "source": [
    "## Explore the data"
   ]
  },
  {
   "cell_type": "code",
   "execution_count": 8,
   "metadata": {},
   "outputs": [],
   "source": [
    "def get_lincorr_new(project_name, attr_names):\n",
    "    # Create ExploreContext\n",
    "    explore_context = {\n",
    "        \"values\": []\n",
    "    }\n",
    "    counting = 1\n",
    "    for i in range(len(attr_names)):\n",
    "        for j in range(i+1):\n",
    "\n",
    "            attr_i = attr_names[i]\n",
    "            attr_j = attr_names[j]\n",
    "            attr_pair = [attr_i, attr_j]\n",
    "            explore_context['values'].append({\n",
    "                \"targets\": [],\n",
    "                \"inputAttributeNames\": attr_pair\n",
    "            })\n",
    "\n",
    "    # Make REST call\n",
    "    res = pym_exp.get_exploration(project_name, \n",
    "                                  explore_context, \n",
    "                                  metric_type=\"bi\")\n",
    "    bivar_stats = json.loads(res.content)\n",
    "\n",
    "    # Extract corresponding correlation values\n",
    "    lin_corr = []\n",
    "    idx = 0\n",
    "    for i in range(len(attr_names)):\n",
    "        temp = []\n",
    "        for _ in range(i+1):\n",
    "            pair_stats = bivar_stats['values']['KSVDMap']['values'][idx]\n",
    "            temp.append(pair_stats[\"linCorr\"])\n",
    "            idx += 1\n",
    "        lin_corr.append(temp)\n",
    "\n",
    "    return lin_corr"
   ]
  },
  {
   "cell_type": "code",
   "execution_count": 9,
   "metadata": {},
   "outputs": [],
   "source": [
    "## Extract the Full Correlation Matrix\n",
    "\n",
    "# cols = inputs + TARGETS_IGNORE\n",
    "cols = attributes_target\n",
    "cor_matrix = get_lincorr_new(prj_name, cols)\n",
    "\n",
    "# cor_matrix is only the lower triangular matrix. \n",
    "# convert it to full matrix\n",
    "C = np.zeros((len(cor_matrix), len(cor_matrix)))\n",
    "for i, r in enumerate(cor_matrix):\n",
    "    C[i, 0:len(r)] = r\n",
    "\n",
    "C = C + C.T - np.identity(C.shape[0])\n",
    "cor_df = pd.DataFrame(C, columns=cols, index=cols)"
   ]
  },
  {
   "cell_type": "code",
   "execution_count": 10,
   "metadata": {},
   "outputs": [
    {
     "data": {
      "text/html": [
       "<div>\n",
       "<style scoped>\n",
       "    .dataframe tbody tr th:only-of-type {\n",
       "        vertical-align: middle;\n",
       "    }\n",
       "\n",
       "    .dataframe tbody tr th {\n",
       "        vertical-align: top;\n",
       "    }\n",
       "\n",
       "    .dataframe thead th {\n",
       "        text-align: right;\n",
       "    }\n",
       "</style>\n",
       "<table border=\"1\" class=\"dataframe\">\n",
       "  <thead>\n",
       "    <tr style=\"text-align: right;\">\n",
       "      <th></th>\n",
       "      <th>sepal_length</th>\n",
       "      <th>sepal_width</th>\n",
       "      <th>petal_length</th>\n",
       "      <th>petal_width</th>\n",
       "      <th>sepal_lengt_b1</th>\n",
       "      <th>sepal_width_b1</th>\n",
       "      <th>petal_length_b1</th>\n",
       "      <th>petal_width_b1</th>\n",
       "    </tr>\n",
       "  </thead>\n",
       "  <tbody>\n",
       "    <tr>\n",
       "      <th>sepal_length</th>\n",
       "      <td>1.0000</td>\n",
       "      <td>-0.0537</td>\n",
       "      <td>0.8588</td>\n",
       "      <td>0.7993</td>\n",
       "      <td>-0.8385</td>\n",
       "      <td>0.0914</td>\n",
       "      <td>-0.7697</td>\n",
       "      <td>-0.7057</td>\n",
       "    </tr>\n",
       "    <tr>\n",
       "      <th>sepal_width</th>\n",
       "      <td>-0.0537</td>\n",
       "      <td>1.0000</td>\n",
       "      <td>-0.3870</td>\n",
       "      <td>-0.3252</td>\n",
       "      <td>0.1377</td>\n",
       "      <td>-0.7561</td>\n",
       "      <td>0.3236</td>\n",
       "      <td>0.5690</td>\n",
       "    </tr>\n",
       "    <tr>\n",
       "      <th>petal_length</th>\n",
       "      <td>0.8588</td>\n",
       "      <td>-0.3870</td>\n",
       "      <td>1.0000</td>\n",
       "      <td>0.9605</td>\n",
       "      <td>-0.7664</td>\n",
       "      <td>0.3321</td>\n",
       "      <td>-0.9011</td>\n",
       "      <td>-0.9232</td>\n",
       "    </tr>\n",
       "    <tr>\n",
       "      <th>petal_width</th>\n",
       "      <td>0.7993</td>\n",
       "      <td>-0.3252</td>\n",
       "      <td>0.9605</td>\n",
       "      <td>1.0000</td>\n",
       "      <td>-0.7230</td>\n",
       "      <td>0.2632</td>\n",
       "      <td>-0.8758</td>\n",
       "      <td>-0.8886</td>\n",
       "    </tr>\n",
       "    <tr>\n",
       "      <th>sepal_lengt_b1</th>\n",
       "      <td>-0.8385</td>\n",
       "      <td>0.1377</td>\n",
       "      <td>-0.7664</td>\n",
       "      <td>-0.7230</td>\n",
       "      <td>1.0000</td>\n",
       "      <td>-0.0868</td>\n",
       "      <td>0.7391</td>\n",
       "      <td>0.6183</td>\n",
       "    </tr>\n",
       "    <tr>\n",
       "      <th>sepal_width_b1</th>\n",
       "      <td>0.0914</td>\n",
       "      <td>-0.7561</td>\n",
       "      <td>0.3321</td>\n",
       "      <td>0.2632</td>\n",
       "      <td>-0.0868</td>\n",
       "      <td>1.0000</td>\n",
       "      <td>-0.2357</td>\n",
       "      <td>-0.4747</td>\n",
       "    </tr>\n",
       "    <tr>\n",
       "      <th>petal_length_b1</th>\n",
       "      <td>-0.7697</td>\n",
       "      <td>0.3236</td>\n",
       "      <td>-0.9011</td>\n",
       "      <td>-0.8758</td>\n",
       "      <td>0.7391</td>\n",
       "      <td>-0.2357</td>\n",
       "      <td>1.0000</td>\n",
       "      <td>0.8367</td>\n",
       "    </tr>\n",
       "    <tr>\n",
       "      <th>petal_width_b1</th>\n",
       "      <td>-0.7057</td>\n",
       "      <td>0.5690</td>\n",
       "      <td>-0.9232</td>\n",
       "      <td>-0.8886</td>\n",
       "      <td>0.6183</td>\n",
       "      <td>-0.4747</td>\n",
       "      <td>0.8367</td>\n",
       "      <td>1.0000</td>\n",
       "    </tr>\n",
       "  </tbody>\n",
       "</table>\n",
       "</div>"
      ],
      "text/plain": [
       "                 sepal_length  sepal_width  petal_length  petal_width  \\\n",
       "sepal_length           1.0000      -0.0537        0.8588       0.7993   \n",
       "sepal_width           -0.0537       1.0000       -0.3870      -0.3252   \n",
       "petal_length           0.8588      -0.3870        1.0000       0.9605   \n",
       "petal_width            0.7993      -0.3252        0.9605       1.0000   \n",
       "sepal_lengt_b1        -0.8385       0.1377       -0.7664      -0.7230   \n",
       "sepal_width_b1         0.0914      -0.7561        0.3321       0.2632   \n",
       "petal_length_b1       -0.7697       0.3236       -0.9011      -0.8758   \n",
       "petal_width_b1        -0.7057       0.5690       -0.9232      -0.8886   \n",
       "\n",
       "                 sepal_lengt_b1  sepal_width_b1  petal_length_b1  \\\n",
       "sepal_length            -0.8385          0.0914          -0.7697   \n",
       "sepal_width              0.1377         -0.7561           0.3236   \n",
       "petal_length            -0.7664          0.3321          -0.9011   \n",
       "petal_width             -0.7230          0.2632          -0.8758   \n",
       "sepal_lengt_b1           1.0000         -0.0868           0.7391   \n",
       "sepal_width_b1          -0.0868          1.0000          -0.2357   \n",
       "petal_length_b1          0.7391         -0.2357           1.0000   \n",
       "petal_width_b1           0.6183         -0.4747           0.8367   \n",
       "\n",
       "                 petal_width_b1  \n",
       "sepal_length            -0.7057  \n",
       "sepal_width              0.5690  \n",
       "petal_length            -0.9232  \n",
       "petal_width             -0.8886  \n",
       "sepal_lengt_b1           0.6183  \n",
       "sepal_width_b1          -0.4747  \n",
       "petal_length_b1          0.8367  \n",
       "petal_width_b1           1.0000  "
      ]
     },
     "execution_count": 10,
     "metadata": {},
     "output_type": "execute_result"
    }
   ],
   "source": [
    "cor_df"
   ]
  },
  {
   "cell_type": "markdown",
   "metadata": {},
   "source": [
    "### Get Index of Attribute Names from Pymetry Project"
   ]
  },
  {
   "cell_type": "code",
   "execution_count": 11,
   "metadata": {},
   "outputs": [
    {
     "name": "stdout",
     "output_type": "stream",
     "text": [
      "[0, 1, 2, 3, 4, 5, 6, 7]\n",
      "['sepal_length', 'sepal_width', 'petal_length', 'petal_width', 'sepal_lengt_b1', 'sepal_width_b1', 'petal_length_b1', 'petal_width_b1']\n"
     ]
    }
   ],
   "source": [
    "rsp = pym_prj.get_project_info(prj_name)\n",
    "print(rsp.json['values']['smlInfo']['attributeIndexes'])\n",
    "print(rsp.json['values']['smlInfo']['attributeNames'])"
   ]
  },
  {
   "cell_type": "code",
   "execution_count": 12,
   "metadata": {},
   "outputs": [],
   "source": [
    "# petal_length\n",
    "variable = \"2\"\n",
    "exp_out_two = pym_exp.get_univariate_stats(pid=prj_name,\n",
    "                                           variable=variable)\n",
    "# petal_width\n",
    "variable = \"3\"\n",
    "exp_out_three = pym_exp.get_univariate_stats(pid=prj_name,\n",
    "                                             variable=variable)\n",
    "# petal_length_b1\n",
    "variable = \"6\"\n",
    "exp_out_six = pym_exp.get_univariate_stats(pid=prj_name,\n",
    "                                           variable=variable)"
   ]
  },
  {
   "cell_type": "code",
   "execution_count": 13,
   "metadata": {},
   "outputs": [
    {
     "name": "stdout",
     "output_type": "stream",
     "text": [
      "Plotting Distributions\n"
     ]
    },
    {
     "data": {
      "image/png": "[encoded data removed]",
      "text/plain": [
       "<Figure size 432x288 with 1 Axes>"
      ]
     },
     "metadata": {
      "needs_background": "light"
     },
     "output_type": "display_data"
    }
   ],
   "source": [
    "# Measuring some univariate statistics\n",
    "\n",
    "print(\"Plotting Distributions\")\n",
    "petall_v = exp_out_two['stddev']\n",
    "petall_m = exp_out_two['mean']\n",
    "petalw_v = exp_out_three['stddev']\n",
    "petalw_m = exp_out_three['mean']\n",
    "petall_b1_v = exp_out_six['stddev']\n",
    "petall_b1_m = exp_out_six['mean']\n",
    "\n",
    "x = ['Petal_Length', 'Petal_width', 'Petal_length_b1']\n",
    "e = np.array([petall_v, petalw_v, petall_b1_v])\n",
    "y = np.array([petall_m, petalw_m, petall_b1_m])\n",
    "plt.errorbar(x, y, e, linestyle='None', marker='^')\n",
    "plt.title('Distribution of characteristics')\n",
    "plt.show()"
   ]
  },
  {
   "cell_type": "code",
   "execution_count": 14,
   "metadata": {},
   "outputs": [],
   "source": [
    "def plot_corr(corr, size=9):\n",
    "\n",
    "    # Plot the correlation matrix\n",
    "    fig, ax = plt.subplots(figsize=(size, size))\n",
    "    cax = ax.matshow(corr, cmap='RdYlGn')\n",
    "    plt.xticks(range(len(corr.columns)), \n",
    "               corr.columns, \n",
    "               rotation=90)\n",
    "    plt.yticks(range(len(corr.columns)), \n",
    "               corr.columns)\n",
    "    \n",
    "    # Add the colorbar legend\n",
    "    cbar = fig.colorbar(cax, \n",
    "                        ticks=[-1, 0, 1], \n",
    "                        aspect=40, \n",
    "                        shrink=.8)"
   ]
  },
  {
   "cell_type": "code",
   "execution_count": 15,
   "metadata": {},
   "outputs": [
    {
     "data": {
      "image/png": "[encoded data removed]",
      "text/plain": [
       "<Figure size 648x648 with 2 Axes>"
      ]
     },
     "metadata": {
      "needs_background": "light"
     },
     "output_type": "display_data"
    }
   ],
   "source": [
    "plot_corr(cor_df)"
   ]
  },
  {
   "cell_type": "markdown",
   "metadata": {},
   "source": [
    "## Build Regression Model"
   ]
  },
  {
   "cell_type": "code",
   "execution_count": 16,
   "metadata": {},
   "outputs": [
    {
     "name": "stdout",
     "output_type": "stream",
     "text": [
      "b'{\"statusCode\":\"ACCEPTED\",\"statusString\":\"Job Created\",\"values\":{}}'\n",
      "{'statusCode': 'OK', 'statusString': 'Job is finished', 'values': {}}\n",
      "CPU times: user 14 ms, sys: 3.93 ms, total: 17.9 ms\n",
      "Wall time: 4.04 s\n"
     ]
    }
   ],
   "source": [
    "%%time\n",
    "\n",
    "model_name = 'regression_one'\n",
    "ml_context = {\"targets\": [\"0\"],\n",
    "              \"inputAttributes\": [\"1\", \"2\", \"3\", \"4\", \"5\", \"6\", \"7\"]}\n",
    "rsp = pym_prj.build_model(ml_context=ml_context,\n",
    "                          pid=prj_name,\n",
    "                          modelid=model_name,\n",
    "                          algo='mlr')\n",
    "print(rsp.content)\n",
    "pym_job.wait_for_job_finish(rsp)"
   ]
  },
  {
   "cell_type": "markdown",
   "metadata": {},
   "source": [
    "## Prediction Output"
   ]
  },
  {
   "cell_type": "code",
   "execution_count": 17,
   "metadata": {},
   "outputs": [],
   "source": [
    "predict_out = pym_prj.predict_df(pid=prj_name,\n",
    "                                 modelid=model_name,\n",
    "                                 sml_dataframe=smldf_test)"
   ]
  },
  {
   "cell_type": "markdown",
   "metadata": {},
   "source": [
    "### Plot the output: Prediction, Actual & Residuals"
   ]
  },
  {
   "cell_type": "code",
   "execution_count": 18,
   "metadata": {},
   "outputs": [
    {
     "data": {
      "image/png": "[encoded data removed]",
      "text/plain": [
       "<Figure size 864x360 with 1 Axes>"
      ]
     },
     "metadata": {
      "needs_background": "light"
     },
     "output_type": "display_data"
    }
   ],
   "source": [
    "df1 = pd.DataFrame(predict_out.json['values']['KSVSMap']['values'])\n",
    "df1['res'] = df1['res'].astype(float)\n",
    "\n",
    "data = {'Prediction': df1['res'].values, \n",
    "        'Actual': test_df['sepal_length'].values}\n",
    "df1 = pd.DataFrame(data)\n",
    "df1['Residuals'] = df1['Actual'] - df1['Prediction']\n",
    "df1.plot(figsize=[12, 5], \n",
    "         kind='line', \n",
    "         title='Plotting of Residuals');"
   ]
  },
  {
   "cell_type": "markdown",
   "metadata": {},
   "source": [
    "## Clear"
   ]
  },
  {
   "cell_type": "code",
   "execution_count": null,
   "metadata": {},
   "outputs": [],
   "source": [
    "clear = True\n",
    "\n",
    "if clear:\n",
    "    # Remove All Projects\n",
    "    rsp = pym_prj.delete_project(pid=prj_name)\n",
    "    print(rsp.content)"
   ]
  },
  {
   "cell_type": "code",
   "execution_count": null,
   "metadata": {},
   "outputs": [],
   "source": []
  }
 ],
 "metadata": {
  "kernelspec": {
   "display_name": "Python 3",
   "language": "python",
   "name": "python3"
  },
  "language_info": {
   "codemirror_mode": {
    "name": "ipython",
    "version": 3
   },
   "file_extension": ".py",
   "mimetype": "text/x-python",
   "name": "python",
   "nbconvert_exporter": "python",
   "pygments_lexer": "ipython3",
   "version": "3.6.10"
  }
 },
 "nbformat": 4,
 "nbformat_minor": 4
}
