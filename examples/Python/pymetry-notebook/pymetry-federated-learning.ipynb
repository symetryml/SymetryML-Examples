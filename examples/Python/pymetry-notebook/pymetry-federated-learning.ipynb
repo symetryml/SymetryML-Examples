{
 "cells": [
  {
   "cell_type": "code",
   "execution_count": 2,
   "metadata": {},
   "outputs": [],
   "source": [
    "import sys\n",
    "import os\n",
    "import time\n",
    "\n",
    "import pandas as pd\n",
    "import numpy as np\n",
    "import json as json\n",
    "import statistics as stat\n",
    "import sklearn.metrics as skmetrics\n",
    "import sklearn.model_selection as skms\n",
    "\n",
    "import pymetry as pym\n",
    "import pymetry.ds as pym_ds\n",
    "import pymetry.project as pym_prj\n",
    "import pymetry.utilities.jobs as pym_jobs\n",
    "import pymetry.utilities.utils as pym_ut\n",
    "import pymetry.explore as pym_exp\n",
    "import pymetry.federation as fed"
   ]
  },
  {
   "cell_type": "markdown",
   "metadata": {},
   "source": [
    "### Federation & peer names"
   ]
  },
  {
   "cell_type": "code",
   "execution_count": 2,
   "metadata": {},
   "outputs": [],
   "source": [
    "fed_admin_name = \"fed_name_iris_01\"\n",
    "\n",
    "# Peer 0 is the Federation Administrator\n",
    "peer0_name = \"peer0\"\n",
    "peer1_name = \"peer1\"\n",
    "peer2_name = \"peer2\""
   ]
  },
  {
   "cell_type": "markdown",
   "metadata": {},
   "source": [
    "### Read config information"
   ]
  },
  {
   "cell_type": "code",
   "execution_count": 3,
   "metadata": {},
   "outputs": [],
   "source": [
    "pym.init_conf({\n",
    "    \"server\" : 'http://YOUR_IP_ADDRESS',\n",
    "    \"sym_key_id\" : \"YOUR_SYMETRY_KEYID\",\n",
    "    \"sym_secret_key\" : \"YOUR_SYMETRY_SECRET_KEY\",\n",
    "    \n",
    "    \"s3accesskey\" : \"YOUR_AWS_ACCESS_KEY\",\n",
    "    \"s3secretkey\" : \"YOUR_AWS_S3_SECRET_KEY\",\n",
    "    \n",
    "    \"fedadmin_password\" : \"YOUR_FEDERATION_PASSWORD\",\n",
    "    \"fedadmin_s3_bucket\": \"YOUR_S3_BUCKET\",\n",
    "    \"fedadminuser\" : \"YOUR_AWS_ACCOUNTID\",\n",
    "    \n",
    "    \"fedpeer1_S3_bucket\" : \"YOUR_S3_BUCKET\",\n",
    "    \"fedpeer1user\" : \"YOUR_AWS_ACCOUNTID\",\n",
    "    \n",
    "    \"fedpeer2_S3_bucket\" : \"YOUR_S3_BUCKET\",\n",
    "    \"fedpeer2user\" : \"YOUR_AWS_ACCOUNTID\"\n",
    "})"
   ]
  },
  {
   "cell_type": "markdown",
   "metadata": {},
   "source": [
    "## Read the data"
   ]
  },
  {
   "cell_type": "markdown",
   "metadata": {},
   "source": [
    "### Iris Dataset"
   ]
  },
  {
   "cell_type": "code",
   "execution_count": 5,
   "metadata": {},
   "outputs": [],
   "source": [
    "DATA_FILE = \"../../../data/Iris_data.csv\"\n",
    "\n",
    "df = pd.read_csv(DATA_FILE)\n",
    "\n",
    "# Dropping Columns to avoid Singular Matrix Error\n",
    "columns_drop = ['sepal_lengt_b2',\n",
    "                'sepal_width_b2',\n",
    "                'petal_length_b2',\n",
    "                'petal_width_b2',\n",
    "                'Iris_versicolor',\n",
    "                'Iris_virginica',\n",
    "                'Iris_setosa']\n",
    "\n",
    "df = df.drop(columns_drop, \n",
    "             axis=1)\n",
    "\n",
    "# Get list of Attributes & Target\n",
    "attributes_target = df.columns.tolist()"
   ]
  },
  {
   "cell_type": "markdown",
   "metadata": {},
   "source": [
    "### Shuffle Dataset & separate into 3 equal parts for each peer of the federation\n",
    "### Create Dataframes for all 3 peers"
   ]
  },
  {
   "cell_type": "code",
   "execution_count": 6,
   "metadata": {},
   "outputs": [],
   "source": [
    "shuffled = df.sample(frac=1)\n",
    "df_out = np.array_split(shuffled, 3) "
   ]
  },
  {
   "cell_type": "code",
   "execution_count": 7,
   "metadata": {},
   "outputs": [],
   "source": [
    "def create_train_test(in_df):\n",
    "    \n",
    "    train_df, test_df = skms.train_test_split(in_df, \n",
    "                                              test_size=0.2, \n",
    "                                              random_state=42)\n",
    "\n",
    "    print(train_df.shape)\n",
    "    print(test_df.shape)\n",
    "\n",
    "    smldf_train = pym_ut.pandas_df_to_sml_json(pandas_df=train_df)\n",
    "    smldf_test = pym_ut.pandas_df_to_sml_json(pandas_df=test_df)\n",
    "    \n",
    "    rval = (smldf_train, \n",
    "            smldf_test, \n",
    "            test_df)\n",
    "    \n",
    "    return rval"
   ]
  },
  {
   "cell_type": "code",
   "execution_count": 8,
   "metadata": {},
   "outputs": [
    {
     "name": "stdout",
     "output_type": "stream",
     "text": [
      "(40, 8)\n",
      "(10, 8)\n",
      "(40, 8)\n",
      "(10, 8)\n",
      "(40, 8)\n",
      "(10, 8)\n"
     ]
    }
   ],
   "source": [
    "smldf0_train, smldf0_test, df0_test = create_train_test(df_out[0])\n",
    "smldf1_train, smldf1_test, df1_test = create_train_test(df_out[1])\n",
    "smldf2_train, smldf2_test, df2_test = create_train_test(df_out[2])"
   ]
  },
  {
   "cell_type": "markdown",
   "metadata": {},
   "source": [
    "### Creating Federation Admin"
   ]
  },
  {
   "cell_type": "code",
   "execution_count": 9,
   "metadata": {},
   "outputs": [],
   "source": [
    "def create_fedadmin_info(in_fed_admin_name,\n",
    "                         in_fed_peer0_name):\n",
    "    \n",
    "    fed_name_tmp = in_fed_admin_name\n",
    "    fed_local_tmp = in_fed_peer0_name\n",
    "    fed_local_type_tmp = 'cpu'\n",
    "    aws_access_key_tmp = pym.conf['s3accesskey']\n",
    "    aws_secret_key_tmp = pym.conf['s3secretkey']\n",
    "    aws_region_tmp = 'US_EAST_1'\n",
    "    s3_bucket_tmp = pym.conf['fedadmin_s3_bucket']\n",
    "    aws_id_tmp = pym.conf['fedadminuser']\n",
    "    sync_sched_tmp = 'm1'\n",
    "\n",
    "    fed_info_out = fed.get_fed_info(fed_name_tmp,\n",
    "                                    fed_local_tmp,\n",
    "                                    fed_local_type_tmp,\n",
    "                                    aws_access_key_tmp,\n",
    "                                    aws_secret_key_tmp,\n",
    "                                    aws_region_tmp,\n",
    "                                    s3_bucket_tmp,\n",
    "                                    aws_id_tmp,\n",
    "                                    sync_sched_tmp)\n",
    "    rval = fed_info_out\n",
    "\n",
    "    return rval"
   ]
  },
  {
   "cell_type": "code",
   "execution_count": 10,
   "metadata": {},
   "outputs": [],
   "source": [
    "fed_info_out = create_fedadmin_info(fed_admin_name,\n",
    "                                    peer0_name)"
   ]
  },
  {
   "cell_type": "markdown",
   "metadata": {},
   "source": [
    "### Creating Federation Peer & Learning training data"
   ]
  },
  {
   "cell_type": "code",
   "execution_count": 11,
   "metadata": {},
   "outputs": [
    {
     "name": "stdout",
     "output_type": "stream",
     "text": [
      "b'{\"statusCode\":\"CREATED\",\"statusString\":\"Project Created with id:peer0\",\"values\":{}}'\n",
      "No requestpayload!\n",
      "\n"
     ]
    }
   ],
   "source": [
    "fed_info = fed.create_federation(peer0_name,\n",
    "                                 fed_info_out)\n",
    "print(fed_info.content)\n",
    "histo = pym_prj.enable_histogram(peer0_name)"
   ]
  },
  {
   "cell_type": "code",
   "execution_count": 12,
   "metadata": {},
   "outputs": [
    {
     "name": "stdout",
     "output_type": "stream",
     "text": [
      "b'{\"statusCode\":\"OK\",\"statusString\":\"OK\",\"values\":{}}'\n"
     ]
    }
   ],
   "source": [
    "pro_learnls = pym_prj.stream_data_to_project(peer0_name, \n",
    "                                             smldf0_train, \n",
    "                                             client_id='pymetry')\n",
    "print(pro_learnls.content)"
   ]
  },
  {
   "cell_type": "code",
   "execution_count": 13,
   "metadata": {},
   "outputs": [],
   "source": [
    "def fed_join_created(in_fed_encrypt_passwd,\n",
    "                     in_fed_join_name,\n",
    "                     in_peer_userid,\n",
    "                     in_peer_user_s3bucket,\n",
    "                     in_peer_s3accesskey,\n",
    "                     in_peer_s3secretkey):\n",
    "    \n",
    "    join_local_name_in = in_fed_join_name\n",
    "    join_local_type_in = 'cpu'\n",
    "    join_aws_id_in = in_peer_userid\n",
    "    join_s3_bucket_in =  in_peer_user_s3bucket\n",
    "    join_access_key_in = in_peer_s3accesskey\n",
    "    join_secret_key_in = in_peer_s3secretkey\n",
    "    join_aws_region_in = 'US_EAST_1'\n",
    "\n",
    "    fed_join_body = fed.get_fed_join_info(in_fed_encrypt_passwd,\n",
    "                                          join_local_name_in,\n",
    "                                          join_local_type_in,\n",
    "                                          join_aws_id_in,\n",
    "                                          join_s3_bucket_in,\n",
    "                                          join_access_key_in,\n",
    "                                          join_secret_key_in,\n",
    "                                          join_aws_region_in)\n",
    "    rval = fed_join_body\n",
    "    return rval"
   ]
  },
  {
   "cell_type": "code",
   "execution_count": 14,
   "metadata": {},
   "outputs": [],
   "source": [
    "def fed_encrypt_create(in_fed_peer0_name,\n",
    "                       in_fed_peerx_name,\n",
    "                       in_peer_userid,\n",
    "                       in_peer_user_s3bucket,\n",
    "                       in_peer_s3accesskey,\n",
    "                       in_peer_s3secretkey):\n",
    "\n",
    "    fed_encrypt_passwd = pym.conf['fedadmin_password']\n",
    "    fed_encrypt_rest_host = pym.conf['server']\n",
    "\n",
    "    fed_pad_passwd = fed.pad_password(fed_encrypt_passwd)\n",
    "\n",
    "    fed_encrypt_info_out = fed.get_fed_encrypt_info(fed_encrypt_passwd,\n",
    "                                                    fed_encrypt_rest_host)\n",
    "    \n",
    "    fed_encrypt_out = fed.get_fed_encrypt(in_fed_peer0_name, \n",
    "                                          fed_encrypt_info_out)\n",
    "\n",
    "    fed_msg_decrypt = fed_encrypt_out.value['encryptedGroupInfo']\n",
    "\n",
    "    decrypt_output_tmp = fed.decrypt_fed_info(fed_msg_decrypt, \n",
    "                                              fed_pad_passwd)\n",
    "\n",
    "    fed_join_body_tmp = fed_join_created(fed_encrypt_passwd,\n",
    "                                         in_fed_peerx_name,\n",
    "                                         in_peer_userid,\n",
    "                                         in_peer_user_s3bucket,\n",
    "                                         in_peer_s3accesskey,\n",
    "                                         in_peer_s3secretkey)\n",
    "\n",
    "    fed_json = json.loads(decrypt_output_tmp)\n",
    "\n",
    "    fed_json.update(fed_join_body_tmp)\n",
    "\n",
    "    rval = fed_json\n",
    "\n",
    "    return rval"
   ]
  },
  {
   "cell_type": "code",
   "execution_count": 15,
   "metadata": {},
   "outputs": [],
   "source": [
    "def join_fed_learn_data(in_fed_peer0_name,\n",
    "                        in_fed_peerx_name,\n",
    "                        in_smldf_train,\n",
    "                        in_peer_userid,\n",
    "                        in_peer_user_s3bucket,\n",
    "                        in_peer_s3accesskey,\n",
    "                        in_peer_s3secretkey):\n",
    "    \n",
    "    encrypt_out = fed_encrypt_create(in_fed_peer0_name,\n",
    "                                     in_fed_peerx_name,\n",
    "                                     in_peer_userid,\n",
    "                                     in_peer_user_s3bucket,\n",
    "                                     in_peer_s3accesskey,\n",
    "                                     in_peer_s3secretkey)\n",
    "                                \n",
    "\n",
    "    join_status = fed.create_join_federation(in_fed_peerx_name, \n",
    "                                             encrypt_out)\n",
    "    \n",
    "    pym_prj.enable_histogram(in_fed_peerx_name)\n",
    "    \n",
    "    print(in_fed_peerx_name + \": %s \" % join_status.content)\n",
    "    time.sleep(2)\n",
    "    \n",
    "    pro_learnls = pym_prj.stream_data_to_project(in_fed_peerx_name, \n",
    "                                                 in_smldf_train, \n",
    "                                                 client_id='pymetry')"
   ]
  },
  {
   "cell_type": "markdown",
   "metadata": {},
   "source": [
    "### Peer 1 joining Federation"
   ]
  },
  {
   "cell_type": "code",
   "execution_count": 16,
   "metadata": {},
   "outputs": [
    {
     "name": "stdout",
     "output_type": "stream",
     "text": [
      "No requestpayload!\n",
      "\n",
      "peer1: b'{\"statusCode\":\"CREATED\",\"statusString\":\"Fed Project created with join\",\"values\":{}}' \n"
     ]
    }
   ],
   "source": [
    "peer1_userid = pym.conf['fedpeer1user']\n",
    "peer1_s3bucket = pym.conf['fedpeer1_s3_bucket']\n",
    "peer1_accesskey = pym.conf['s3accesskey']\n",
    "peer1_secretkey = pym.conf['s3secretkey']\n",
    "\n",
    "# import ipdb; ipdb.set_trace()\n",
    "\n",
    "join_fed_learn_data(peer0_name,\n",
    "                    peer1_name,\n",
    "                    smldf1_train,\n",
    "                    peer1_userid,\n",
    "                    peer1_s3bucket,\n",
    "                    peer1_accesskey,\n",
    "                    peer1_secretkey)"
   ]
  },
  {
   "cell_type": "markdown",
   "metadata": {},
   "source": [
    "### Peer 2 joining Federation"
   ]
  },
  {
   "cell_type": "code",
   "execution_count": 17,
   "metadata": {},
   "outputs": [
    {
     "name": "stdout",
     "output_type": "stream",
     "text": [
      "No requestpayload!\n",
      "\n",
      "peer2: b'{\"statusCode\":\"CREATED\",\"statusString\":\"Fed Project created with join\",\"values\":{}}' \n"
     ]
    }
   ],
   "source": [
    "peer2_userid = pym.conf['fedpeer2user']\n",
    "peer2_s3bucket = pym.conf['fedpeer2_s3_bucket']\n",
    "peer2_accesskey = pym.conf['s3accesskey']\n",
    "peer2_secretkey = pym.conf['s3secretkey']\n",
    "\n",
    "join_fed_learn_data(peer0_name,\n",
    "                    peer2_name,\n",
    "                    smldf2_train,\n",
    "                    peer2_userid,\n",
    "                    peer2_s3bucket,\n",
    "                    peer2_accesskey,\n",
    "                    peer2_secretkey)"
   ]
  },
  {
   "cell_type": "markdown",
   "metadata": {},
   "source": [
    "### Start Pulsing"
   ]
  },
  {
   "cell_type": "code",
   "execution_count": 18,
   "metadata": {},
   "outputs": [
    {
     "name": "stdout",
     "output_type": "stream",
     "text": [
      "peer0: b'{\"statusCode\":\"OK\",\"statusString\":\"OK\",\"values\":{}}' \n",
      "peer1: b'{\"statusCode\":\"OK\",\"statusString\":\"OK\",\"values\":{}}' \n",
      "peer2: b'{\"statusCode\":\"OK\",\"statusString\":\"OK\",\"values\":{}}' \n"
     ]
    }
   ],
   "source": [
    "time.sleep(5)\n",
    "pulse_out = fed.start_pulse(peer0_name)\n",
    "print(peer0_name + \": %s \" % pulse_out.content)    \n",
    "    \n",
    "pulse_out = fed.start_pulse(peer1_name)\n",
    "print(peer1_name + \": %s \" % pulse_out.content)\n",
    "\n",
    "pulse_out = fed.start_pulse(peer2_name)\n",
    "print(peer2_name + \": %s \" % pulse_out.content)"
   ]
  },
  {
   "cell_type": "markdown",
   "metadata": {},
   "source": [
    "### Pause for 5 minutes to let all Peers Sync information"
   ]
  },
  {
   "cell_type": "code",
   "execution_count": 3,
   "metadata": {},
   "outputs": [
    {
     "name": "stdout",
     "output_type": "stream",
     "text": [
      "Pausing for 300 seconds to allow Federation to sync information for all peers \n"
     ]
    }
   ],
   "source": [
    "pause_time = 300\n",
    "\n",
    "print(\"Pausing for %s seconds to allow Federation to sync information \\\n",
    "for all peers \" % pause_time)\n",
    "time.sleep(pause_time)"
   ]
  },
  {
   "cell_type": "markdown",
   "metadata": {},
   "source": [
    "### Monitor Federation Peers Sync & Error Logs"
   ]
  },
  {
   "cell_type": "code",
   "execution_count": 20,
   "metadata": {},
   "outputs": [],
   "source": [
    "def get_synclogs(in_project):\n",
    "    \n",
    "    rsp = fed.get_fed_sync_log(in_project)\n",
    "    sync_peer = rsp.json['values']['stringList']['values']\n",
    "    for i in range(0, len(sync_peer)):\n",
    "        print(sync_peer[i])"
   ]
  },
  {
   "cell_type": "code",
   "execution_count": 21,
   "metadata": {},
   "outputs": [],
   "source": [
    "def get_errorlogs(in_project):\n",
    "    \n",
    "    rsp = fed.get_fed_error_log(in_project)\n",
    "    err_peer = rsp.json['values']['stringList']['values']\n",
    "    for i in range(0, len(err_peer)):\n",
    "        print(err_peer[i])"
   ]
  },
  {
   "cell_type": "markdown",
   "metadata": {},
   "source": [
    "#### Peer 0 (Admin) : Sync Logs"
   ]
  },
  {
   "cell_type": "code",
   "execution_count": 22,
   "metadata": {},
   "outputs": [
    {
     "name": "stdout",
     "output_type": "stream",
     "text": [
      "fedProj rebuilt done name:[peer0] id:[28] type:[com.rtlm.core.bets.DynamicBET] #peers:2 ms:6630 time:2022-03-09T16.58\n",
      "fedProj rebuilt done name:[peer0] id:[28] type:[com.rtlm.core.bets.DynamicBET] #peers:2 ms:3333 time:2022-03-09T16.59\n",
      "fedProj rebuilt done name:[peer0] id:[28] type:[com.rtlm.core.bets.DynamicBET] #peers:2 ms:2793 time:2022-03-09T17.00\n",
      "fedProj rebuilt done name:[peer0] id:[28] type:[com.rtlm.core.bets.DynamicBET] #peers:2 ms:29 time:2022-03-09T17.01\n",
      "fedProj rebuilt done name:[peer0] id:[28] type:[com.rtlm.core.bets.DynamicBET] #peers:2 ms:11 time:2022-03-09T17.02\n",
      "fedProj rebuilt done name:[peer0] id:[28] type:[com.rtlm.core.bets.DynamicBET] #peers:2 ms:18 time:2022-03-09T17.03\n"
     ]
    }
   ],
   "source": [
    "get_synclogs(peer0_name)"
   ]
  },
  {
   "cell_type": "markdown",
   "metadata": {},
   "source": [
    "#### Peer 0 (Admin) : Error Logs"
   ]
  },
  {
   "cell_type": "code",
   "execution_count": 23,
   "metadata": {},
   "outputs": [
    {
     "name": "stdout",
     "output_type": "stream",
     "text": [
      "no error\n"
     ]
    }
   ],
   "source": [
    "get_errorlogs(peer0_name)"
   ]
  },
  {
   "cell_type": "markdown",
   "metadata": {},
   "source": [
    "#### Peer 1: Sync Logs"
   ]
  },
  {
   "cell_type": "code",
   "execution_count": 24,
   "metadata": {},
   "outputs": [
    {
     "name": "stdout",
     "output_type": "stream",
     "text": [
      "fedProj rebuilt done name:[peer1] id:[29] type:[com.rtlm.core.bets.DynamicBET] #peers:2 ms:5806 time:2022-03-09T16.58\n",
      "fedProj rebuilt done name:[peer1] id:[29] type:[com.rtlm.core.bets.DynamicBET] #peers:2 ms:4624 time:2022-03-09T16.59\n",
      "fedProj rebuilt done name:[peer1] id:[29] type:[com.rtlm.core.bets.DynamicBET] #peers:2 ms:4250 time:2022-03-09T17.00\n",
      "fedProj rebuilt done name:[peer1] id:[29] type:[com.rtlm.core.bets.DynamicBET] #peers:2 ms:2070 time:2022-03-09T17.01\n",
      "fedProj rebuilt done name:[peer1] id:[29] type:[com.rtlm.core.bets.DynamicBET] #peers:2 ms:25 time:2022-03-09T17.02\n",
      "fedProj rebuilt done name:[peer1] id:[29] type:[com.rtlm.core.bets.DynamicBET] #peers:2 ms:17 time:2022-03-09T17.03\n"
     ]
    }
   ],
   "source": [
    "get_synclogs(peer1_name)"
   ]
  },
  {
   "cell_type": "markdown",
   "metadata": {},
   "source": [
    "#### Peer 1: Error Logs"
   ]
  },
  {
   "cell_type": "code",
   "execution_count": 25,
   "metadata": {},
   "outputs": [
    {
     "name": "stdout",
     "output_type": "stream",
     "text": [
      "no error\n"
     ]
    }
   ],
   "source": [
    "get_errorlogs(peer1_name)"
   ]
  },
  {
   "cell_type": "markdown",
   "metadata": {},
   "source": [
    "#### Peer 2 : Sync Logs"
   ]
  },
  {
   "cell_type": "code",
   "execution_count": 26,
   "metadata": {},
   "outputs": [
    {
     "name": "stdout",
     "output_type": "stream",
     "text": [
      "fedProj rebuilt done name:[peer2] id:[30] type:[com.rtlm.core.bets.DynamicBET] #peers:2 ms:5590 time:2022-03-09T16.58\n",
      "fedProj rebuilt done name:[peer2] id:[30] type:[com.rtlm.core.bets.DynamicBET] #peers:2 ms:4832 time:2022-03-09T16.59\n",
      "fedProj rebuilt done name:[peer2] id:[30] type:[com.rtlm.core.bets.DynamicBET] #peers:2 ms:2491 time:2022-03-09T17.00\n",
      "fedProj rebuilt done name:[peer2] id:[30] type:[com.rtlm.core.bets.DynamicBET] #peers:2 ms:35 time:2022-03-09T17.01\n",
      "fedProj rebuilt done name:[peer2] id:[30] type:[com.rtlm.core.bets.DynamicBET] #peers:2 ms:13 time:2022-03-09T17.02\n",
      "fedProj rebuilt done name:[peer2] id:[30] type:[com.rtlm.core.bets.DynamicBET] #peers:2 ms:10 time:2022-03-09T17.03\n"
     ]
    }
   ],
   "source": [
    "get_synclogs(peer2_name)"
   ]
  },
  {
   "cell_type": "markdown",
   "metadata": {},
   "source": [
    "#### Peer 2 : Error Logs"
   ]
  },
  {
   "cell_type": "code",
   "execution_count": 27,
   "metadata": {},
   "outputs": [
    {
     "name": "stdout",
     "output_type": "stream",
     "text": [
      "no error\n"
     ]
    }
   ],
   "source": [
    "get_errorlogs(peer2_name)"
   ]
  },
  {
   "cell_type": "markdown",
   "metadata": {},
   "source": [
    "### Stop Pulsing"
   ]
  },
  {
   "cell_type": "code",
   "execution_count": 28,
   "metadata": {},
   "outputs": [
    {
     "name": "stdout",
     "output_type": "stream",
     "text": [
      "peer0: b'{\"statusCode\":\"OK\",\"statusString\":\"OK\",\"values\":{}}' \n",
      "peer1: b'{\"statusCode\":\"OK\",\"statusString\":\"OK\",\"values\":{}}' \n",
      "peer2: b'{\"statusCode\":\"OK\",\"statusString\":\"OK\",\"values\":{}}' \n"
     ]
    }
   ],
   "source": [
    "time.sleep(5)\n",
    " \n",
    "pulse_out = fed.stop_pulse(peer0_name)\n",
    "print(peer0_name + \": %s \" % pulse_out.content)\n",
    "\n",
    "pulse_out = fed.stop_pulse(peer1_name)\n",
    "print(peer1_name + \": %s \" % pulse_out.content)\n",
    "\n",
    "pulse_out = fed.stop_pulse(peer2_name)\n",
    "print(peer2_name + \": %s \" % pulse_out.content)"
   ]
  },
  {
   "cell_type": "markdown",
   "metadata": {},
   "source": [
    "### Build Regression Models on all 3 peers"
   ]
  },
  {
   "cell_type": "code",
   "execution_count": 29,
   "metadata": {},
   "outputs": [],
   "source": [
    "def build_models(project_name):   \n",
    "    \n",
    "    model_name = 'regression_one'\n",
    "    prj_name = project_name\n",
    "    ml_context = {\"targets\": [\"0\"],\n",
    "                  \"inputAttributes\": [\"1\", \"2\", \"3\", \"4\", \"5\", \"6\", \"7\"]}\n",
    "\n",
    "    rsp = pym_prj.build_model(ml_context=ml_context,\n",
    "                              pid=prj_name,\n",
    "                              modelid=model_name,\n",
    "                              algo='mlr')\n",
    "    print(rsp.content)\n",
    "    pym_jobs.wait_for_job_finish(rsp)"
   ]
  },
  {
   "cell_type": "markdown",
   "metadata": {},
   "source": [
    "#### Peer 0 (Admin) : Build Model "
   ]
  },
  {
   "cell_type": "code",
   "execution_count": 30,
   "metadata": {},
   "outputs": [
    {
     "name": "stdout",
     "output_type": "stream",
     "text": [
      "b'{\"statusCode\":\"ACCEPTED\",\"statusString\":\"Job Created\",\"values\":{}}'\n",
      "{'statusCode': 'OK', 'statusString': 'Job is finished', 'values': {}}\n"
     ]
    }
   ],
   "source": [
    "build_models(peer0_name)"
   ]
  },
  {
   "cell_type": "markdown",
   "metadata": {},
   "source": [
    "#### Peer 1: Build Model"
   ]
  },
  {
   "cell_type": "code",
   "execution_count": 31,
   "metadata": {},
   "outputs": [
    {
     "name": "stdout",
     "output_type": "stream",
     "text": [
      "b'{\"statusCode\":\"ACCEPTED\",\"statusString\":\"Job Created\",\"values\":{}}'\n",
      "{'statusCode': 'OK', 'statusString': 'Job is finished', 'values': {}}\n"
     ]
    }
   ],
   "source": [
    "build_models(peer1_name)"
   ]
  },
  {
   "cell_type": "markdown",
   "metadata": {},
   "source": [
    "#### Peer 2: Build Model"
   ]
  },
  {
   "cell_type": "code",
   "execution_count": 32,
   "metadata": {},
   "outputs": [
    {
     "name": "stdout",
     "output_type": "stream",
     "text": [
      "b'{\"statusCode\":\"ACCEPTED\",\"statusString\":\"Job Created\",\"values\":{}}'\n",
      "{'statusCode': 'OK', 'statusString': 'Job is finished', 'values': {}}\n"
     ]
    }
   ],
   "source": [
    "build_models(peer2_name)"
   ]
  },
  {
   "cell_type": "markdown",
   "metadata": {},
   "source": [
    "### Make Predictions"
   ]
  },
  {
   "cell_type": "code",
   "execution_count": 33,
   "metadata": {},
   "outputs": [],
   "source": [
    "def predict(peer_name_in,\n",
    "            model_name_in,\n",
    "            smldf_test_in):\n",
    "\n",
    "    rsp = pym_prj.predict_df(peer_name_in,\n",
    "                             model_name_in,\n",
    "                             smldf_test_in)\n",
    "    print(rsp.content)\n",
    "    \n",
    "    rst = rsp.json['values']['KSVSMap']['values']\n",
    "    pred_values = [ ]\n",
    "    for i in range(0,len(rst)):\n",
    "        tt = list(rst[i].values())\n",
    "        pred_values.append(float(tt[0]))\n",
    "    rval = pred_values\n",
    "    return rval"
   ]
  },
  {
   "cell_type": "markdown",
   "metadata": {},
   "source": [
    "#### Peer 0 (Admin) : Prediction"
   ]
  },
  {
   "cell_type": "code",
   "execution_count": 34,
   "metadata": {},
   "outputs": [
    {
     "name": "stdout",
     "output_type": "stream",
     "text": [
      "b'{\"statusCode\":\"OK\",\"statusString\":\"OK\",\"values\":{\"KSVSMap\":{\"values\":[{\"res\":\"6.276775361205365\"},{\"res\":\"5.8303662248007955\"},{\"res\":\"4.899862900172971\"},{\"res\":\"4.971069245100589\"},{\"res\":\"6.838514958372939\"},{\"res\":\"5.612375572889659\"},{\"res\":\"4.937745046020856\"},{\"res\":\"5.792312897898156\"},{\"res\":\"5.0475867443974884\"},{\"res\":\"6.226764491416657\"}]}}}'\n"
     ]
    }
   ],
   "source": [
    "model_name = 'regression_one'\n",
    "\n",
    "y_pred0 = predict(peer0_name,\n",
    "                  model_name,\n",
    "                  smldf0_test)"
   ]
  },
  {
   "cell_type": "markdown",
   "metadata": {},
   "source": [
    "#### Peer 1 : Prediction"
   ]
  },
  {
   "cell_type": "code",
   "execution_count": 35,
   "metadata": {},
   "outputs": [
    {
     "name": "stdout",
     "output_type": "stream",
     "text": [
      "b'{\"statusCode\":\"OK\",\"statusString\":\"OK\",\"values\":{\"KSVSMap\":{\"values\":[{\"res\":\"4.902518477357614\"},{\"res\":\"6.977722061221451\"},{\"res\":\"4.7934299865821135\"},{\"res\":\"5.4699096139751475\"},{\"res\":\"7.023367740844205\"},{\"res\":\"6.193643490115987\"},{\"res\":\"6.268055422050321\"},{\"res\":\"5.369541062354703\"},{\"res\":\"5.011606968133112\"},{\"res\":\"7.193243465587808\"}]}}}'\n"
     ]
    }
   ],
   "source": [
    "y_pred1 = predict(peer1_name,\n",
    "                  model_name,\n",
    "                  smldf1_test)"
   ]
  },
  {
   "cell_type": "markdown",
   "metadata": {},
   "source": [
    "#### Peer 2 : Prediction"
   ]
  },
  {
   "cell_type": "code",
   "execution_count": 36,
   "metadata": {},
   "outputs": [
    {
     "name": "stdout",
     "output_type": "stream",
     "text": [
      "b'{\"statusCode\":\"OK\",\"statusString\":\"OK\",\"values\":{\"KSVSMap\":{\"values\":[{\"res\":\"5.351635495008084\"},{\"res\":\"6.394194263716995\"},{\"res\":\"6.810105959281234\"},{\"res\":\"5.015015752918875\"},{\"res\":\"4.937745046020844\"},{\"res\":\"4.828656555245336\"},{\"res\":\"5.55788695039732\"},{\"res\":\"6.438690781357381\"},{\"res\":\"5.482844814576373\"},{\"res\":\"7.267890869500263\"}]}}}'\n"
     ]
    }
   ],
   "source": [
    "y_pred2 = predict(peer2_name,\n",
    "                  model_name,\n",
    "                  smldf2_test)"
   ]
  },
  {
   "cell_type": "markdown",
   "metadata": {},
   "source": [
    "### R Square Measure"
   ]
  },
  {
   "cell_type": "markdown",
   "metadata": {},
   "source": [
    "#### Peer 0 (Admin) : R Square"
   ]
  },
  {
   "cell_type": "code",
   "execution_count": 37,
   "metadata": {},
   "outputs": [
    {
     "name": "stdout",
     "output_type": "stream",
     "text": [
      "R Square for peer0 : 0.8733322289180675 \n"
     ]
    }
   ],
   "source": [
    "y_true0 = df0_test['sepal_length'].values.tolist()\n",
    "rsquare0 = skmetrics.r2_score(y_true0, \n",
    "                              y_pred0)\n",
    "print(\"R Square for peer0 : %s \" % rsquare0)"
   ]
  },
  {
   "cell_type": "markdown",
   "metadata": {},
   "source": [
    "#### Peer 1 : R Square"
   ]
  },
  {
   "cell_type": "code",
   "execution_count": 38,
   "metadata": {},
   "outputs": [
    {
     "name": "stdout",
     "output_type": "stream",
     "text": [
      "R Square for peer1 : 0.8995412920135443 \n"
     ]
    }
   ],
   "source": [
    "y_true1 = df1_test['sepal_length'].values.tolist()\n",
    "rsquare1 = skmetrics.r2_score(y_true1, \n",
    "                              y_pred1)\n",
    "print(\"R Square for peer1 : %s \" % rsquare1)"
   ]
  },
  {
   "cell_type": "markdown",
   "metadata": {},
   "source": [
    "#### Peer 2 : R Square"
   ]
  },
  {
   "cell_type": "code",
   "execution_count": 39,
   "metadata": {},
   "outputs": [
    {
     "name": "stdout",
     "output_type": "stream",
     "text": [
      "R Square for peer2 : 0.8885540855221365 \n"
     ]
    }
   ],
   "source": [
    "y_true2 = df2_test['sepal_length'].values.tolist()\n",
    "rsquare2 = skmetrics.r2_score(y_true2, \n",
    "                              y_pred2)\n",
    "print(\"R Square for peer2 : %s \" % rsquare2)"
   ]
  }
 ],
 "metadata": {
  "kernelspec": {
   "display_name": "Python 3",
   "language": "python",
   "name": "python3"
  },
  "language_info": {
   "codemirror_mode": {
    "name": "ipython",
    "version": 3
   },
   "file_extension": ".py",
   "mimetype": "text/x-python",
   "name": "python",
   "nbconvert_exporter": "python",
   "pygments_lexer": "ipython3",
   "version": "3.6.10"
  }
 },
 "nbformat": 4,
 "nbformat_minor": 4
}
